{
 "cells": [
  {
   "cell_type": "code",
   "execution_count": 2,
   "id": "8ae02a8c-33a2-4c93-a1a8-9db4e7c155a7",
   "metadata": {},
   "outputs": [],
   "source": [
    "import numpy as np\n",
    "import pandas as pd"
   ]
  },
  {
   "cell_type": "code",
   "execution_count": 3,
   "id": "67ba9487-96bb-4093-947c-893e3ab39039",
   "metadata": {},
   "outputs": [
    {
     "data": {
      "text/html": [
       "<div>\n",
       "<style scoped>\n",
       "    .dataframe tbody tr th:only-of-type {\n",
       "        vertical-align: middle;\n",
       "    }\n",
       "\n",
       "    .dataframe tbody tr th {\n",
       "        vertical-align: top;\n",
       "    }\n",
       "\n",
       "    .dataframe thead th {\n",
       "        text-align: right;\n",
       "    }\n",
       "</style>\n",
       "<table border=\"1\" class=\"dataframe\">\n",
       "  <thead>\n",
       "    <tr style=\"text-align: right;\">\n",
       "      <th></th>\n",
       "      <th>Date</th>\n",
       "      <th>Price</th>\n",
       "      <th>Open</th>\n",
       "      <th>High</th>\n",
       "      <th>Low</th>\n",
       "      <th>Vol.</th>\n",
       "      <th>Change %</th>\n",
       "    </tr>\n",
       "  </thead>\n",
       "  <tbody>\n",
       "    <tr>\n",
       "      <th>0</th>\n",
       "      <td>06/01/2024</td>\n",
       "      <td>627.58</td>\n",
       "      <td>593.80</td>\n",
       "      <td>637.75</td>\n",
       "      <td>593.20</td>\n",
       "      <td>588.65K</td>\n",
       "      <td>5.69%</td>\n",
       "    </tr>\n",
       "    <tr>\n",
       "      <th>1</th>\n",
       "      <td>05/01/2024</td>\n",
       "      <td>593.80</td>\n",
       "      <td>578.41</td>\n",
       "      <td>629.98</td>\n",
       "      <td>537.50</td>\n",
       "      <td>10.58M</td>\n",
       "      <td>2.66%</td>\n",
       "    </tr>\n",
       "    <tr>\n",
       "      <th>2</th>\n",
       "      <td>04/01/2024</td>\n",
       "      <td>578.41</td>\n",
       "      <td>606.69</td>\n",
       "      <td>627.68</td>\n",
       "      <td>510.84</td>\n",
       "      <td>19.61M</td>\n",
       "      <td>-4.69%</td>\n",
       "    </tr>\n",
       "    <tr>\n",
       "      <th>3</th>\n",
       "      <td>03/01/2024</td>\n",
       "      <td>606.89</td>\n",
       "      <td>399.10</td>\n",
       "      <td>641.80</td>\n",
       "      <td>362.15</td>\n",
       "      <td>42.88M</td>\n",
       "      <td>52.06%</td>\n",
       "    </tr>\n",
       "    <tr>\n",
       "      <th>4</th>\n",
       "      <td>02/01/2024</td>\n",
       "      <td>399.10</td>\n",
       "      <td>300.50</td>\n",
       "      <td>426.79</td>\n",
       "      <td>296.61</td>\n",
       "      <td>22.09M</td>\n",
       "      <td>32.81%</td>\n",
       "    </tr>\n",
       "    <tr>\n",
       "      <th>...</th>\n",
       "      <td>...</td>\n",
       "      <td>...</td>\n",
       "      <td>...</td>\n",
       "      <td>...</td>\n",
       "      <td>...</td>\n",
       "      <td>...</td>\n",
       "      <td>...</td>\n",
       "    </tr>\n",
       "    <tr>\n",
       "      <th>74</th>\n",
       "      <td>04/01/2018</td>\n",
       "      <td>14.32</td>\n",
       "      <td>11.05</td>\n",
       "      <td>15.90</td>\n",
       "      <td>10.32</td>\n",
       "      <td>110.48M</td>\n",
       "      <td>29.64%</td>\n",
       "    </tr>\n",
       "    <tr>\n",
       "      <th>75</th>\n",
       "      <td>03/01/2018</td>\n",
       "      <td>11.04</td>\n",
       "      <td>10.46</td>\n",
       "      <td>14.93</td>\n",
       "      <td>7.07</td>\n",
       "      <td>109.34M</td>\n",
       "      <td>5.62%</td>\n",
       "    </tr>\n",
       "    <tr>\n",
       "      <th>76</th>\n",
       "      <td>02/01/2018</td>\n",
       "      <td>10.46</td>\n",
       "      <td>11.31</td>\n",
       "      <td>11.85</td>\n",
       "      <td>0.00</td>\n",
       "      <td>68.44M</td>\n",
       "      <td>-7.57%</td>\n",
       "    </tr>\n",
       "    <tr>\n",
       "      <th>77</th>\n",
       "      <td>01/01/2018</td>\n",
       "      <td>11.31</td>\n",
       "      <td>8.53</td>\n",
       "      <td>24.64</td>\n",
       "      <td>7.80</td>\n",
       "      <td>77.38M</td>\n",
       "      <td>32.63%</td>\n",
       "    </tr>\n",
       "    <tr>\n",
       "      <th>78</th>\n",
       "      <td>12/01/2017</td>\n",
       "      <td>8.53</td>\n",
       "      <td>1.95</td>\n",
       "      <td>11.30</td>\n",
       "      <td>1.88</td>\n",
       "      <td>32.83M</td>\n",
       "      <td>337.44%</td>\n",
       "    </tr>\n",
       "  </tbody>\n",
       "</table>\n",
       "<p>79 rows × 7 columns</p>\n",
       "</div>"
      ],
      "text/plain": [
       "          Date   Price    Open    High     Low     Vol. Change %\n",
       "0   06/01/2024  627.58  593.80  637.75  593.20  588.65K    5.69%\n",
       "1   05/01/2024  593.80  578.41  629.98  537.50   10.58M    2.66%\n",
       "2   04/01/2024  578.41  606.69  627.68  510.84   19.61M   -4.69%\n",
       "3   03/01/2024  606.89  399.10  641.80  362.15   42.88M   52.06%\n",
       "4   02/01/2024  399.10  300.50  426.79  296.61   22.09M   32.81%\n",
       "..         ...     ...     ...     ...     ...      ...      ...\n",
       "74  04/01/2018   14.32   11.05   15.90   10.32  110.48M   29.64%\n",
       "75  03/01/2018   11.04   10.46   14.93    7.07  109.34M    5.62%\n",
       "76  02/01/2018   10.46   11.31   11.85    0.00   68.44M   -7.57%\n",
       "77  01/01/2018   11.31    8.53   24.64    7.80   77.38M   32.63%\n",
       "78  12/01/2017    8.53    1.95   11.30    1.88   32.83M  337.44%\n",
       "\n",
       "[79 rows x 7 columns]"
      ]
     },
     "execution_count": 3,
     "metadata": {},
     "output_type": "execute_result"
    }
   ],
   "source": [
    "file_path = r\"C:/Users/Vahe/Downloads/BNB_Historical_Data.csv\"\n",
    "df = pd.read_csv(file_path)\n",
    "df.head(100)"
   ]
  },
  {
   "cell_type": "code",
   "execution_count": 4,
   "id": "e340f6a7-2559-4b97-b281-7f5045afb57f",
   "metadata": {},
   "outputs": [],
   "source": [
    "df['Date'] = pd.to_datetime(df['Date'], format='%m/%d/%Y')"
   ]
  },
  {
   "cell_type": "code",
   "execution_count": 5,
   "id": "11f85553-3f1c-4a3a-b01e-c5d53c53b784",
   "metadata": {},
   "outputs": [
    {
     "data": {
      "text/plain": [
       "0    2024-06-01\n",
       "1    2024-05-01\n",
       "2    2024-04-01\n",
       "3    2024-03-01\n",
       "4    2024-02-01\n",
       "        ...    \n",
       "74   2018-04-01\n",
       "75   2018-03-01\n",
       "76   2018-02-01\n",
       "77   2018-01-01\n",
       "78   2017-12-01\n",
       "Name: Date, Length: 79, dtype: datetime64[ns]"
      ]
     },
     "execution_count": 5,
     "metadata": {},
     "output_type": "execute_result"
    }
   ],
   "source": [
    "df['Date']"
   ]
  },
  {
   "cell_type": "code",
   "execution_count": 6,
   "id": "b4a33ebe-2661-4c46-9e51-c9b419ff9077",
   "metadata": {},
   "outputs": [
    {
     "name": "stdout",
     "output_type": "stream",
     "text": [
      "Date        0\n",
      "Price       0\n",
      "Open        0\n",
      "High        0\n",
      "Low         0\n",
      "Vol.        0\n",
      "Change %    0\n",
      "dtype: int64\n"
     ]
    }
   ],
   "source": [
    "print(df.isnull().sum())\n"
   ]
  },
  {
   "cell_type": "code",
   "execution_count": 7,
   "id": "e0c40c0b-8fb1-4dcf-b551-b1b06d6d16c1",
   "metadata": {},
   "outputs": [],
   "source": [
    "df.dropna(inplace=True)\n"
   ]
  },
  {
   "cell_type": "code",
   "execution_count": 8,
   "id": "f92fc1dd-6771-48bc-8451-f6c0e284be49",
   "metadata": {},
   "outputs": [
    {
     "name": "stdout",
     "output_type": "stream",
     "text": [
      "Date        0\n",
      "Price       0\n",
      "Open        0\n",
      "High        0\n",
      "Low         0\n",
      "Vol.        0\n",
      "Change %    0\n",
      "dtype: int64\n"
     ]
    }
   ],
   "source": [
    "print(df.isnull().sum())\n"
   ]
  },
  {
   "cell_type": "code",
   "execution_count": 9,
   "id": "3f25937d-69cb-4d32-8afe-fcf3969ac8bc",
   "metadata": {},
   "outputs": [],
   "source": [
    "df.sort_values(by='Date', inplace=True)\n"
   ]
  },
  {
   "cell_type": "code",
   "execution_count": 10,
   "id": "60e4dd1d-885b-40a4-96c6-aca5a6b26ac6",
   "metadata": {},
   "outputs": [
    {
     "name": "stdout",
     "output_type": "stream",
     "text": [
      "Number of duplicate rows: 0\n"
     ]
    }
   ],
   "source": [
    "print(\"Number of duplicate rows:\", df.duplicated().sum())\n"
   ]
  },
  {
   "cell_type": "code",
   "execution_count": 11,
   "id": "bb4d7ae0-0b66-4be8-a4c8-4886d99fd29a",
   "metadata": {},
   "outputs": [
    {
     "name": "stdout",
     "output_type": "stream",
     "text": [
      "         Date  Price   Open   High    Low     Vol. Change %\n",
      "78 2017-12-01   8.53   1.95  11.30   1.88   32.83M  337.44%\n",
      "77 2018-01-01  11.31   8.53  24.64   7.80   77.38M   32.63%\n",
      "76 2018-02-01  10.46  11.31  11.85   0.00   68.44M   -7.57%\n",
      "75 2018-03-01  11.04  10.46  14.93   7.07  109.34M    5.62%\n",
      "74 2018-04-01  14.32  11.05  15.90  10.32  110.48M   29.64%\n"
     ]
    }
   ],
   "source": [
    "print(df.head())\n"
   ]
  },
  {
   "cell_type": "code",
   "execution_count": 12,
   "id": "1dde6924-a984-4212-9067-8d665d9dd750",
   "metadata": {},
   "outputs": [],
   "source": [
    "df['Change %'] = df['Change %'].str.replace('%', '').astype(float) / 100\n"
   ]
  },
  {
   "cell_type": "code",
   "execution_count": 13,
   "id": "68218744-8dc5-4d2a-b184-a2b6dc65e8b3",
   "metadata": {},
   "outputs": [
    {
     "data": {
      "text/plain": [
       "78    3.3744\n",
       "77    0.3263\n",
       "76   -0.0757\n",
       "75    0.0562\n",
       "74    0.2964\n",
       "       ...  \n",
       "4     0.3281\n",
       "3     0.5206\n",
       "2    -0.0469\n",
       "1     0.0266\n",
       "0     0.0569\n",
       "Name: Change %, Length: 79, dtype: float64"
      ]
     },
     "execution_count": 13,
     "metadata": {},
     "output_type": "execute_result"
    }
   ],
   "source": [
    "df['Change %']"
   ]
  },
  {
   "cell_type": "code",
   "execution_count": 14,
   "id": "b22feb18-44e3-47d6-83ec-0f0fc5f8e28d",
   "metadata": {},
   "outputs": [],
   "source": [
    "df['Vol.'] = df['Vol.'].astype(str).str.replace('K', 'e3').str.replace('M', 'e6').str.replace('B', 'e9')\n",
    "\n",
    "df['Vol.'] = pd.to_numeric(df['Vol.'], errors='coerce')"
   ]
  },
  {
   "cell_type": "code",
   "execution_count": 15,
   "id": "51b872fa-e04b-4541-93ef-479bfbcdf799",
   "metadata": {},
   "outputs": [
    {
     "data": {
      "text/plain": [
       "78     32830000.0\n",
       "77     77380000.0\n",
       "76     68440000.0\n",
       "75    109340000.0\n",
       "74    110480000.0\n",
       "         ...     \n",
       "4      22090000.0\n",
       "3      42880000.0\n",
       "2      19610000.0\n",
       "1      10580000.0\n",
       "0        588650.0\n",
       "Name: Vol., Length: 79, dtype: float64"
      ]
     },
     "execution_count": 15,
     "metadata": {},
     "output_type": "execute_result"
    }
   ],
   "source": [
    "df['Vol.']"
   ]
  },
  {
   "cell_type": "code",
   "execution_count": 16,
   "id": "ac02bcfd-19a0-43c6-a6de-15dab4bed234",
   "metadata": {},
   "outputs": [
    {
     "data": {
      "text/html": [
       "<div>\n",
       "<style scoped>\n",
       "    .dataframe tbody tr th:only-of-type {\n",
       "        vertical-align: middle;\n",
       "    }\n",
       "\n",
       "    .dataframe tbody tr th {\n",
       "        vertical-align: top;\n",
       "    }\n",
       "\n",
       "    .dataframe thead th {\n",
       "        text-align: right;\n",
       "    }\n",
       "</style>\n",
       "<table border=\"1\" class=\"dataframe\">\n",
       "  <thead>\n",
       "    <tr style=\"text-align: right;\">\n",
       "      <th></th>\n",
       "      <th>Date</th>\n",
       "      <th>Price</th>\n",
       "      <th>Open</th>\n",
       "      <th>High</th>\n",
       "      <th>Low</th>\n",
       "      <th>Vol.</th>\n",
       "      <th>Change %</th>\n",
       "    </tr>\n",
       "  </thead>\n",
       "  <tbody>\n",
       "    <tr>\n",
       "      <th>0</th>\n",
       "      <td>2017-12-01</td>\n",
       "      <td>8.53</td>\n",
       "      <td>1.95</td>\n",
       "      <td>11.30</td>\n",
       "      <td>1.88</td>\n",
       "      <td>32830000.0</td>\n",
       "      <td>3.3744</td>\n",
       "    </tr>\n",
       "    <tr>\n",
       "      <th>1</th>\n",
       "      <td>2018-01-01</td>\n",
       "      <td>11.31</td>\n",
       "      <td>8.53</td>\n",
       "      <td>24.64</td>\n",
       "      <td>7.80</td>\n",
       "      <td>77380000.0</td>\n",
       "      <td>0.3263</td>\n",
       "    </tr>\n",
       "    <tr>\n",
       "      <th>2</th>\n",
       "      <td>2018-02-01</td>\n",
       "      <td>10.46</td>\n",
       "      <td>11.31</td>\n",
       "      <td>11.85</td>\n",
       "      <td>0.00</td>\n",
       "      <td>68440000.0</td>\n",
       "      <td>-0.0757</td>\n",
       "    </tr>\n",
       "    <tr>\n",
       "      <th>3</th>\n",
       "      <td>2018-03-01</td>\n",
       "      <td>11.04</td>\n",
       "      <td>10.46</td>\n",
       "      <td>14.93</td>\n",
       "      <td>7.07</td>\n",
       "      <td>109340000.0</td>\n",
       "      <td>0.0562</td>\n",
       "    </tr>\n",
       "    <tr>\n",
       "      <th>4</th>\n",
       "      <td>2018-04-01</td>\n",
       "      <td>14.32</td>\n",
       "      <td>11.05</td>\n",
       "      <td>15.90</td>\n",
       "      <td>10.32</td>\n",
       "      <td>110480000.0</td>\n",
       "      <td>0.2964</td>\n",
       "    </tr>\n",
       "    <tr>\n",
       "      <th>5</th>\n",
       "      <td>2018-05-01</td>\n",
       "      <td>14.22</td>\n",
       "      <td>14.32</td>\n",
       "      <td>16.23</td>\n",
       "      <td>0.00</td>\n",
       "      <td>60180000.0</td>\n",
       "      <td>-0.0072</td>\n",
       "    </tr>\n",
       "    <tr>\n",
       "      <th>6</th>\n",
       "      <td>2018-06-01</td>\n",
       "      <td>14.74</td>\n",
       "      <td>14.20</td>\n",
       "      <td>17.44</td>\n",
       "      <td>13.36</td>\n",
       "      <td>77140000.0</td>\n",
       "      <td>0.0367</td>\n",
       "    </tr>\n",
       "    <tr>\n",
       "      <th>7</th>\n",
       "      <td>2018-07-01</td>\n",
       "      <td>13.80</td>\n",
       "      <td>14.67</td>\n",
       "      <td>14.88</td>\n",
       "      <td>11.64</td>\n",
       "      <td>46370000.0</td>\n",
       "      <td>-0.0635</td>\n",
       "    </tr>\n",
       "    <tr>\n",
       "      <th>8</th>\n",
       "      <td>2018-08-01</td>\n",
       "      <td>10.98</td>\n",
       "      <td>13.80</td>\n",
       "      <td>14.47</td>\n",
       "      <td>8.54</td>\n",
       "      <td>35910000.0</td>\n",
       "      <td>-0.2044</td>\n",
       "    </tr>\n",
       "    <tr>\n",
       "      <th>9</th>\n",
       "      <td>2018-09-01</td>\n",
       "      <td>10.02</td>\n",
       "      <td>10.99</td>\n",
       "      <td>11.57</td>\n",
       "      <td>9.01</td>\n",
       "      <td>25910000.0</td>\n",
       "      <td>-0.0872</td>\n",
       "    </tr>\n",
       "    <tr>\n",
       "      <th>10</th>\n",
       "      <td>2018-10-01</td>\n",
       "      <td>9.49</td>\n",
       "      <td>10.02</td>\n",
       "      <td>10.98</td>\n",
       "      <td>9.23</td>\n",
       "      <td>36060000.0</td>\n",
       "      <td>-0.0530</td>\n",
       "    </tr>\n",
       "    <tr>\n",
       "      <th>11</th>\n",
       "      <td>2018-11-01</td>\n",
       "      <td>5.12</td>\n",
       "      <td>9.49</td>\n",
       "      <td>9.98</td>\n",
       "      <td>4.54</td>\n",
       "      <td>25620000.0</td>\n",
       "      <td>-0.4605</td>\n",
       "    </tr>\n",
       "    <tr>\n",
       "      <th>12</th>\n",
       "      <td>2018-12-01</td>\n",
       "      <td>6.11</td>\n",
       "      <td>5.11</td>\n",
       "      <td>6.62</td>\n",
       "      <td>4.13</td>\n",
       "      <td>48450000.0</td>\n",
       "      <td>0.1922</td>\n",
       "    </tr>\n",
       "    <tr>\n",
       "      <th>13</th>\n",
       "      <td>2019-01-01</td>\n",
       "      <td>6.22</td>\n",
       "      <td>6.11</td>\n",
       "      <td>7.20</td>\n",
       "      <td>5.38</td>\n",
       "      <td>72090000.0</td>\n",
       "      <td>0.0188</td>\n",
       "    </tr>\n",
       "    <tr>\n",
       "      <th>14</th>\n",
       "      <td>2019-02-01</td>\n",
       "      <td>10.27</td>\n",
       "      <td>6.22</td>\n",
       "      <td>11.27</td>\n",
       "      <td>6.12</td>\n",
       "      <td>110610000.0</td>\n",
       "      <td>0.6516</td>\n",
       "    </tr>\n",
       "    <tr>\n",
       "      <th>15</th>\n",
       "      <td>2019-03-01</td>\n",
       "      <td>17.53</td>\n",
       "      <td>10.27</td>\n",
       "      <td>17.72</td>\n",
       "      <td>10.24</td>\n",
       "      <td>115040000.0</td>\n",
       "      <td>0.7065</td>\n",
       "    </tr>\n",
       "    <tr>\n",
       "      <th>16</th>\n",
       "      <td>2019-04-01</td>\n",
       "      <td>22.04</td>\n",
       "      <td>17.53</td>\n",
       "      <td>25.49</td>\n",
       "      <td>16.32</td>\n",
       "      <td>83860000.0</td>\n",
       "      <td>0.2574</td>\n",
       "    </tr>\n",
       "    <tr>\n",
       "      <th>17</th>\n",
       "      <td>2019-05-01</td>\n",
       "      <td>32.93</td>\n",
       "      <td>22.04</td>\n",
       "      <td>35.47</td>\n",
       "      <td>18.33</td>\n",
       "      <td>104060000.0</td>\n",
       "      <td>0.4939</td>\n",
       "    </tr>\n",
       "    <tr>\n",
       "      <th>18</th>\n",
       "      <td>2019-06-01</td>\n",
       "      <td>32.11</td>\n",
       "      <td>32.92</td>\n",
       "      <td>39.54</td>\n",
       "      <td>28.73</td>\n",
       "      <td>144900000.0</td>\n",
       "      <td>-0.0248</td>\n",
       "    </tr>\n",
       "    <tr>\n",
       "      <th>19</th>\n",
       "      <td>2019-07-01</td>\n",
       "      <td>27.73</td>\n",
       "      <td>32.12</td>\n",
       "      <td>34.36</td>\n",
       "      <td>24.18</td>\n",
       "      <td>107930000.0</td>\n",
       "      <td>-0.1365</td>\n",
       "    </tr>\n",
       "  </tbody>\n",
       "</table>\n",
       "</div>"
      ],
      "text/plain": [
       "         Date  Price   Open   High    Low         Vol.  Change %\n",
       "0  2017-12-01   8.53   1.95  11.30   1.88   32830000.0    3.3744\n",
       "1  2018-01-01  11.31   8.53  24.64   7.80   77380000.0    0.3263\n",
       "2  2018-02-01  10.46  11.31  11.85   0.00   68440000.0   -0.0757\n",
       "3  2018-03-01  11.04  10.46  14.93   7.07  109340000.0    0.0562\n",
       "4  2018-04-01  14.32  11.05  15.90  10.32  110480000.0    0.2964\n",
       "5  2018-05-01  14.22  14.32  16.23   0.00   60180000.0   -0.0072\n",
       "6  2018-06-01  14.74  14.20  17.44  13.36   77140000.0    0.0367\n",
       "7  2018-07-01  13.80  14.67  14.88  11.64   46370000.0   -0.0635\n",
       "8  2018-08-01  10.98  13.80  14.47   8.54   35910000.0   -0.2044\n",
       "9  2018-09-01  10.02  10.99  11.57   9.01   25910000.0   -0.0872\n",
       "10 2018-10-01   9.49  10.02  10.98   9.23   36060000.0   -0.0530\n",
       "11 2018-11-01   5.12   9.49   9.98   4.54   25620000.0   -0.4605\n",
       "12 2018-12-01   6.11   5.11   6.62   4.13   48450000.0    0.1922\n",
       "13 2019-01-01   6.22   6.11   7.20   5.38   72090000.0    0.0188\n",
       "14 2019-02-01  10.27   6.22  11.27   6.12  110610000.0    0.6516\n",
       "15 2019-03-01  17.53  10.27  17.72  10.24  115040000.0    0.7065\n",
       "16 2019-04-01  22.04  17.53  25.49  16.32   83860000.0    0.2574\n",
       "17 2019-05-01  32.93  22.04  35.47  18.33  104060000.0    0.4939\n",
       "18 2019-06-01  32.11  32.92  39.54  28.73  144900000.0   -0.0248\n",
       "19 2019-07-01  27.73  32.12  34.36  24.18  107930000.0   -0.1365"
      ]
     },
     "execution_count": 16,
     "metadata": {},
     "output_type": "execute_result"
    }
   ],
   "source": [
    "df.reset_index(drop=True, inplace=True)\n",
    "\n",
    "df.head(20)"
   ]
  },
  {
   "cell_type": "code",
   "execution_count": 17,
   "id": "82e584c4-df84-4e0b-af32-c9c4aa2bb1cc",
   "metadata": {},
   "outputs": [
    {
     "data": {
      "image/png": "[encoded data removed]",
      "text/plain": [
       "<Figure size 1000x600 with 1 Axes>"
      ]
     },
     "metadata": {},
     "output_type": "display_data"
    }
   ],
   "source": [
    "import matplotlib.pyplot as plt\n",
    "\n",
    "df = pd.DataFrame(df)\n",
    "\n",
    "plt.figure(figsize=(10, 6))\n",
    "plt.plot(df['Date'], df['Price'], marker='o', color='b', linestyle='-')\n",
    "plt.title('Price Over Time')\n",
    "plt.xlabel('Date')\n",
    "plt.ylabel('Price')\n",
    "plt.grid(True)\n",
    "plt.xticks(rotation=45)\n",
    "plt.tight_layout()\n",
    "\n",
    "plt.show()"
   ]
  },
  {
   "cell_type": "code",
   "execution_count": 18,
   "id": "e6a6ec78-6c3e-4f02-8f3c-7b76a684df5d",
   "metadata": {},
   "outputs": [
    {
     "name": "stdout",
     "output_type": "stream",
     "text": [
      "Year\n",
      "2017      8.530000\n",
      "2018     10.967500\n",
      "2019     19.595833\n",
      "2020     22.500000\n",
      "2021    390.040833\n",
      "2022    319.636667\n",
      "2023    271.106667\n",
      "2024    517.713333\n",
      "Name: Price, dtype: float64\n"
     ]
    }
   ],
   "source": [
    "df['Year'] = df['Date'].dt.year\n",
    "mean_price_by_year = df.groupby('Year')['Price'].mean()\n",
    "\n",
    "print(mean_price_by_year)"
   ]
  },
  {
   "cell_type": "code",
   "execution_count": 26,
   "id": "cc7e6cb7-7547-4c7d-8af8-42e1302c7384",
   "metadata": {},
   "outputs": [
    {
     "data": {
      "image/png": "[encoded data removed]",
      "text/plain": [
       "<Figure size 1000x600 with 1 Axes>"
      ]
     },
     "metadata": {},
     "output_type": "display_data"
    }
   ],
   "source": [
    "plt.figure(figsize=(10, 6))\n",
    "plt.plot(mean_price_by_year.index, mean_price_by_year.values, marker='o', color='skyblue', linestyle='-')\n",
    "plt.title('Mean Price by Year')\n",
    "plt.xlabel('Year')\n",
    "plt.ylabel('Mean Price')\n",
    "plt.xticks(rotation=45)\n",
    "plt.grid(axis='y', linestyle='--', alpha=0.7)\n",
    "plt.tight_layout()\n",
    "plt.show()"
   ]
  },
  {
   "cell_type": "code",
   "execution_count": 28,
   "id": "0f7c498d-54d4-496c-90bf-ba50f0da2400",
   "metadata": {},
   "outputs": [
    {
     "data": {
      "image/png": "[encoded data removed]",
      "text/plain": [
       "<Figure size 1000x600 with 1 Axes>"
      ]
     },
     "metadata": {},
     "output_type": "display_data"
    }
   ],
   "source": [
    "plt.figure(figsize=(10, 6))\n",
    "plt.plot(df['Date'], df['Vol.'], marker='o', color='b', linestyle='-')\n",
    "plt.title('Volume Over Time')\n",
    "plt.xlabel('Date')\n",
    "plt.ylabel('Volume')\n",
    "plt.grid(True)\n",
    "plt.xticks(rotation=45)\n",
    "plt.tight_layout()\n",
    "\n",
    "plt.show()"
   ]
  },
  {
   "cell_type": "code",
   "execution_count": null,
   "id": "0d71f01d-3915-4fc7-959e-6050074b4dc1",
   "metadata": {},
   "outputs": [],
   "source": []
  }
 ],
 "metadata": {
  "kernelspec": {
   "display_name": "Python 3 (ipykernel)",
   "language": "python",
   "name": "python3"
  },
  "language_info": {
   "codemirror_mode": {
    "name": "ipython",
    "version": 3
   },
   "file_extension": ".py",
   "mimetype": "text/x-python",
   "name": "python",
   "nbconvert_exporter": "python",
   "pygments_lexer": "ipython3",
   "version": "3.11.7"
  }
 },
 "nbformat": 4,
 "nbformat_minor": 5
}
